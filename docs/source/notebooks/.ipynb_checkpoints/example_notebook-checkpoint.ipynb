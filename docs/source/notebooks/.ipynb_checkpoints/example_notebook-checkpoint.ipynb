{
 "cells": [
  {
   "cell_type": "markdown",
   "id": "09ee01af-66fc-4c72-a86d-ad7cb247275d",
   "metadata": {},
   "source": [
    "# Analysis Politeness Data"
   ]
  },
  {
   "cell_type": "code",
   "execution_count": 1,
   "id": "9b94f5f8-eda3-4591-8386-c66c44ce67ee",
   "metadata": {
    "scrolled": true
   },
   "outputs": [],
   "source": [
    "import pathlib\n",
    "import os\n",
    "\n",
    "from example_project.download_data import DownloadData\n",
    "from example_project.politeness_data import PolitenessData\n",
    "\n",
    "# set the current working directory\n",
    "os.chdir(pathlib.PureWindowsPath(r\"C:\\Users\\flobo\\OneDrive\\Dokumente\\Phd-teaching\\IntroPython\\example-project\"))"
   ]
  },
  {
   "cell_type": "markdown",
   "id": "7c01ade5-221c-4998-b819-be77ca2c5d49",
   "metadata": {},
   "source": [
    "## Set local variables"
   ]
  },
  {
   "cell_type": "code",
   "execution_count": 2,
   "id": "fff8d9f3-41a5-49dc-a768-33d1d635cabf",
   "metadata": {},
   "outputs": [],
   "source": [
    "# here we use pathlib.PureWindowsPath s.t. we don't need to care about\n",
    "# direction of backslashes\n",
    "target_path = pathlib.PureWindowsPath(r\"C:\\Users\\flobo\\OneDrive\\Dokumente\\Phd-teaching\\IntroPython\\example-project\\examples\\data\") \n",
    "# data set\n",
    "data_url = \"http://www.bodowinter.com/tutorial/politeness_data.csv\"    \n",
    "data_file = \"pitch_data.csv\""
   ]
  },
  {
   "cell_type": "markdown",
   "id": "5c9c82a1-7c25-495e-81d7-67a6cb4fc485",
   "metadata": {},
   "source": [
    "## Download data"
   ]
  },
  {
   "cell_type": "code",
   "execution_count": 3,
   "id": "b4526ecb-e73f-455f-9091-5927105102b3",
   "metadata": {},
   "outputs": [
    {
     "name": "stdout",
     "output_type": "stream",
     "text": [
      "C:\\Users\\flobo\\OneDrive\\Dokumente\\Phd-teaching\\IntroPython\\example-project\\examples\\data\n"
     ]
    }
   ],
   "source": [
    "# download politeness data and save data file in target directory\n",
    "data_download = DownloadData(data_url, target_path, data_file)\n",
    "# set working directory\n",
    "data_download.set_cwd(target_path)\n",
    "# download data set\n",
    "data_download.download_data(data_url, data_file)"
   ]
  },
  {
   "cell_type": "markdown",
   "id": "11ff8124-3bd2-4c24-9a34-36447e7f9bc0",
   "metadata": {},
   "source": [
    "## Preprocess data"
   ]
  },
  {
   "cell_type": "code",
   "execution_count": 4,
   "id": "b7856c10-a13b-4905-8928-25aae14ec31d",
   "metadata": {},
   "outputs": [
    {
     "name": "stdout",
     "output_type": "stream",
     "text": [
      "Mean pitch grouped by gender and attitude\n",
      "shape: (4, 3)\n",
      "┌──────────┬────────┬────────────┐\n",
      "│ attitude ┆ gender ┆ mean_pitch │\n",
      "│ ---      ┆ ---    ┆ ---        │\n",
      "│ str      ┆ str    ┆ f64        │\n",
      "╞══════════╪════════╪════════════╡\n",
      "│ inf      ┆ M      ┆ 144.490476 │\n",
      "│ pol      ┆ M      ┆ 132.98     │\n",
      "│ pol      ┆ F      ┆ 233.285714 │\n",
      "│ inf      ┆ F      ┆ 260.685714 │\n",
      "└──────────┴────────┴────────────┘\n",
      " \n",
      "Excerpt data set\n",
      "shape: (4, 6)\n",
      "┌─────────┬────────┬──────────┬──────────┬───────────┬────────────┐\n",
      "│ subject ┆ gender ┆ scenario ┆ attitude ┆ frequency ┆ mean_pitch │\n",
      "│ ---     ┆ ---    ┆ ---      ┆ ---      ┆ ---       ┆ ---        │\n",
      "│ str     ┆ str    ┆ i64      ┆ str      ┆ f64       ┆ f64        │\n",
      "╞═════════╪════════╪══════════╪══════════╪═══════════╪════════════╡\n",
      "│ F1      ┆ F      ┆ 1        ┆ polite   ┆ 213.3     ┆ 233.285714 │\n",
      "│ F1      ┆ F      ┆ 1        ┆ informal ┆ 204.5     ┆ 260.685714 │\n",
      "│ F1      ┆ F      ┆ 2        ┆ polite   ┆ 285.1     ┆ 233.285714 │\n",
      "│ F1      ┆ F      ┆ 2        ┆ informal ┆ 259.7     ┆ 260.685714 │\n",
      "└─────────┴────────┴──────────┴──────────┴───────────┴────────────┘\n"
     ]
    }
   ],
   "source": [
    "# initialize class and create a new instance\n",
    "pol_data = PolitenessData(data_file)\n",
    "# preprocess data set\n",
    "df, df_sum = pol_data.data_preprocessed(data_file)\n",
    "print(\"Mean pitch grouped by gender and attitude\")\n",
    "print(df_sum)\n",
    "print(\" \")\n",
    "print(\"Excerpt data set\")\n",
    "print(df.head(4))"
   ]
  },
  {
   "cell_type": "markdown",
   "id": "a6271000-9767-4b58-8103-c7681e60a52e",
   "metadata": {},
   "source": [
    "## Plot data"
   ]
  },
  {
   "cell_type": "code",
   "execution_count": 5,
   "id": "3755e20b-96d6-47fa-87d6-c2d3ed184ef4",
   "metadata": {},
   "outputs": [
    {
     "name": "stderr",
     "output_type": "stream",
     "text": [
      "C:\\Users\\flobo\\OneDrive\\Dokumente\\Phd-teaching\\example-project\\example_project\\politeness_data.py:98: UserWarning: set_ticklabels() should only be used with a fixed number of ticks, i.e. after set_ticks() or using a FixedLocator.\n",
      "  axs.set_xticklabels(labels = [\"Female\", \"Male\"])\n"
     ]
    },
    {
     "data": {
      "text/plain": [
       "(<Figure size 640x480 with 1 Axes>,\n",
       " <Axes: xlabel='gender', ylabel='pitch in Hz'>)"
      ]
     },
     "execution_count": 5,
     "metadata": {},
     "output_type": "execute_result"
    },
    {
     "data": {
      "image/png": "[encoded data removed]",
      "text/plain": [
       "<Figure size 640x480 with 1 Axes>"
      ]
     },
     "metadata": {},
     "output_type": "display_data"
    }
   ],
   "source": [
    "pol_data.plot_data(df)"
   ]
  }
 ],
 "metadata": {
  "kernelspec": {
   "display_name": "Python 3 (ipykernel)",
   "language": "python",
   "name": "python3"
  },
  "language_info": {
   "codemirror_mode": {
    "name": "ipython",
    "version": 3
   },
   "file_extension": ".py",
   "mimetype": "text/x-python",
   "name": "python",
   "nbconvert_exporter": "python",
   "pygments_lexer": "ipython3",
   "version": "3.12.0"
  }
 },
 "nbformat": 4,
 "nbformat_minor": 5
}
